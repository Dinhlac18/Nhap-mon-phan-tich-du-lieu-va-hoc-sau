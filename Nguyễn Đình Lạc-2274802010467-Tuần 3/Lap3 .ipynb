{
 "cells": [
  {
   "cell_type": "markdown",
   "metadata": {},
   "source": [
    "# Làm sạch dữ liệu cơ bản"
   ]
  },
  {
   "attachments": {},
   "cell_type": "markdown",
   "metadata": {},
   "source": [
    "## 1. Tạo dữ liệu  ##"
   ]
  },
  {
   "cell_type": "code",
   "execution_count": 22,
   "metadata": {},
   "outputs": [
    {
     "name": "stdout",
     "output_type": "stream",
     "text": [
      "   id   name  age                email    salary\n",
      "0   1    Anh   15       Anh@vlu.edu.vn       NaN\n",
      "1   2     Em   14         Em@gmail.com   70000.0\n",
      "2   3  Phong   18  Phong@vanlanguni.vn   10000.0\n",
      "3   4    Phú   27        Phu@yahoo.com  250000.0\n",
      "4   5   None   50                 None   15000.0\n"
     ]
    }
   ],
   "source": [
    "import pandas as pd \n",
    "\n",
    "data = {\n",
    "    \"id\" : [1,2,3,4,5],\n",
    "    \"name\" : [\"Anh\",\"Em\",\"Phong\",\"Phú\", None],\n",
    "    \"age\" : [15,14,18,27,50],\n",
    "    \"email\" :[\"Anh@vlu.edu.vn\",\"Em@gmail.com\",\"Phong@vanlanguni.vn\",\"Phu@yahoo.com\",None],\n",
    "    \"salary\" : [None,70000,10000,250000,15000]\n",
    "}\n",
    "df = pd.DataFrame(data)\n",
    "print(df)"
   ]
  },
  {
   "cell_type": "code",
   "execution_count": 2,
   "metadata": {},
   "outputs": [
    {
     "data": {
      "text/html": [
       "<div>\n",
       "<style scoped>\n",
       "    .dataframe tbody tr th:only-of-type {\n",
       "        vertical-align: middle;\n",
       "    }\n",
       "\n",
       "    .dataframe tbody tr th {\n",
       "        vertical-align: top;\n",
       "    }\n",
       "\n",
       "    .dataframe thead th {\n",
       "        text-align: right;\n",
       "    }\n",
       "</style>\n",
       "<table border=\"1\" class=\"dataframe\">\n",
       "  <thead>\n",
       "    <tr style=\"text-align: right;\">\n",
       "      <th></th>\n",
       "      <th>id</th>\n",
       "      <th>name</th>\n",
       "      <th>age</th>\n",
       "      <th>email</th>\n",
       "      <th>salary</th>\n",
       "    </tr>\n",
       "  </thead>\n",
       "  <tbody>\n",
       "    <tr>\n",
       "      <th>0</th>\n",
       "      <td>1</td>\n",
       "      <td>Anh</td>\n",
       "      <td>15</td>\n",
       "      <td>Anh@vlu.edu.vn</td>\n",
       "      <td>NaN</td>\n",
       "    </tr>\n",
       "    <tr>\n",
       "      <th>1</th>\n",
       "      <td>2</td>\n",
       "      <td>Em</td>\n",
       "      <td>14</td>\n",
       "      <td>Em@gmail.com</td>\n",
       "      <td>70000.0</td>\n",
       "    </tr>\n",
       "    <tr>\n",
       "      <th>2</th>\n",
       "      <td>3</td>\n",
       "      <td>Phong</td>\n",
       "      <td>18</td>\n",
       "      <td>Phong@vanlanguni.vn</td>\n",
       "      <td>10000.0</td>\n",
       "    </tr>\n",
       "    <tr>\n",
       "      <th>3</th>\n",
       "      <td>4</td>\n",
       "      <td>Phú</td>\n",
       "      <td>27</td>\n",
       "      <td>Phu@yahoo.com</td>\n",
       "      <td>250000.0</td>\n",
       "    </tr>\n",
       "    <tr>\n",
       "      <th>4</th>\n",
       "      <td>5</td>\n",
       "      <td>None</td>\n",
       "      <td>50</td>\n",
       "      <td>None</td>\n",
       "      <td>15000.0</td>\n",
       "    </tr>\n",
       "  </tbody>\n",
       "</table>\n",
       "</div>"
      ],
      "text/plain": [
       "   id   name  age                email    salary\n",
       "0   1    Anh   15       Anh@vlu.edu.vn       NaN\n",
       "1   2     Em   14         Em@gmail.com   70000.0\n",
       "2   3  Phong   18  Phong@vanlanguni.vn   10000.0\n",
       "3   4    Phú   27        Phu@yahoo.com  250000.0\n",
       "4   5   None   50                 None   15000.0"
      ]
     },
     "execution_count": 2,
     "metadata": {},
     "output_type": "execute_result"
    }
   ],
   "source": [
    "# Lấy ra 5 dòng đầu tiên \n",
    "df.head() "
   ]
  },
  {
   "cell_type": "code",
   "execution_count": 4,
   "metadata": {},
   "outputs": [
    {
     "data": {
      "text/plain": [
       "id        0\n",
       "name      1\n",
       "age       0\n",
       "email     1\n",
       "salary    1\n",
       "dtype: int64"
      ]
     },
     "execution_count": 4,
     "metadata": {},
     "output_type": "execute_result"
    }
   ],
   "source": [
    "# Kiểm tra dữ liệu thiếu \n",
    "df.isnull().sum() "
   ]
  },
  {
   "cell_type": "code",
   "execution_count": 26,
   "metadata": {},
   "outputs": [],
   "source": [
    "# Điền giá trị thiếu cho cột salary = giá trị trung bình\n",
    "df[\"salary\"].fillna(df[\"salary\"].mean(), inplace=True) "
   ]
  },
  {
   "cell_type": "code",
   "execution_count": 8,
   "metadata": {},
   "outputs": [],
   "source": [
    "# Điền giá trị thiếu bằng Unknow cho cột name và email\n",
    "df[\"name\"].fillna(\"Unkown\", inplace=True) \n",
    "df[\"email\"].fillna(\"Unkown\", inplace=True) "
   ]
  },
  {
   "cell_type": "code",
   "execution_count": 27,
   "metadata": {},
   "outputs": [
    {
     "data": {
      "text/plain": [
       "id        0\n",
       "name      1\n",
       "age       0\n",
       "email     1\n",
       "salary    0\n",
       "dtype: int64"
      ]
     },
     "execution_count": 27,
     "metadata": {},
     "output_type": "execute_result"
    }
   ],
   "source": [
    "# Kiểm tra lại dữ liệu thiếu \n",
    "df.isnull().sum()"
   ]
  },
  {
   "cell_type": "code",
   "execution_count": 28,
   "metadata": {},
   "outputs": [
    {
     "data": {
      "text/html": [
       "<div>\n",
       "<style scoped>\n",
       "    .dataframe tbody tr th:only-of-type {\n",
       "        vertical-align: middle;\n",
       "    }\n",
       "\n",
       "    .dataframe tbody tr th {\n",
       "        vertical-align: top;\n",
       "    }\n",
       "\n",
       "    .dataframe thead th {\n",
       "        text-align: right;\n",
       "    }\n",
       "</style>\n",
       "<table border=\"1\" class=\"dataframe\">\n",
       "  <thead>\n",
       "    <tr style=\"text-align: right;\">\n",
       "      <th></th>\n",
       "      <th>id</th>\n",
       "      <th>name</th>\n",
       "      <th>age</th>\n",
       "      <th>email</th>\n",
       "      <th>salary</th>\n",
       "    </tr>\n",
       "  </thead>\n",
       "  <tbody>\n",
       "    <tr>\n",
       "      <th>0</th>\n",
       "      <td>1</td>\n",
       "      <td>Anh</td>\n",
       "      <td>15</td>\n",
       "      <td>Anh@vlu.edu.vn</td>\n",
       "      <td>86250.0</td>\n",
       "    </tr>\n",
       "    <tr>\n",
       "      <th>1</th>\n",
       "      <td>2</td>\n",
       "      <td>Em</td>\n",
       "      <td>14</td>\n",
       "      <td>Em@gmail.com</td>\n",
       "      <td>70000.0</td>\n",
       "    </tr>\n",
       "    <tr>\n",
       "      <th>2</th>\n",
       "      <td>3</td>\n",
       "      <td>Phong</td>\n",
       "      <td>18</td>\n",
       "      <td>Phong@vanlanguni.vn</td>\n",
       "      <td>10000.0</td>\n",
       "    </tr>\n",
       "    <tr>\n",
       "      <th>3</th>\n",
       "      <td>4</td>\n",
       "      <td>Phú</td>\n",
       "      <td>27</td>\n",
       "      <td>Phu@yahoo.com</td>\n",
       "      <td>250000.0</td>\n",
       "    </tr>\n",
       "    <tr>\n",
       "      <th>4</th>\n",
       "      <td>5</td>\n",
       "      <td>None</td>\n",
       "      <td>50</td>\n",
       "      <td>None</td>\n",
       "      <td>15000.0</td>\n",
       "    </tr>\n",
       "  </tbody>\n",
       "</table>\n",
       "</div>"
      ],
      "text/plain": [
       "   id   name  age                email    salary\n",
       "0   1    Anh   15       Anh@vlu.edu.vn   86250.0\n",
       "1   2     Em   14         Em@gmail.com   70000.0\n",
       "2   3  Phong   18  Phong@vanlanguni.vn   10000.0\n",
       "3   4    Phú   27        Phu@yahoo.com  250000.0\n",
       "4   5   None   50                 None   15000.0"
      ]
     },
     "execution_count": 28,
     "metadata": {},
     "output_type": "execute_result"
    }
   ],
   "source": [
    "# loại bỏ dữ liệu trùng lặp\n",
    "df.drop_duplicates(inplace=True)\n",
    "df"
   ]
  },
  {
   "cell_type": "code",
   "execution_count": 35,
   "metadata": {},
   "outputs": [
    {
     "data": {
      "text/html": [
       "<div>\n",
       "<style scoped>\n",
       "    .dataframe tbody tr th:only-of-type {\n",
       "        vertical-align: middle;\n",
       "    }\n",
       "\n",
       "    .dataframe tbody tr th {\n",
       "        vertical-align: top;\n",
       "    }\n",
       "\n",
       "    .dataframe thead th {\n",
       "        text-align: right;\n",
       "    }\n",
       "</style>\n",
       "<table border=\"1\" class=\"dataframe\">\n",
       "  <thead>\n",
       "    <tr style=\"text-align: right;\">\n",
       "      <th></th>\n",
       "      <th>id</th>\n",
       "      <th>name</th>\n",
       "      <th>age</th>\n",
       "      <th>email</th>\n",
       "      <th>salary</th>\n",
       "    </tr>\n",
       "  </thead>\n",
       "  <tbody>\n",
       "    <tr>\n",
       "      <th>0</th>\n",
       "      <td>1</td>\n",
       "      <td>Anh</td>\n",
       "      <td>15</td>\n",
       "      <td>Anh@vlu.edu.vn</td>\n",
       "      <td>86250.0</td>\n",
       "    </tr>\n",
       "    <tr>\n",
       "      <th>1</th>\n",
       "      <td>2</td>\n",
       "      <td>Em</td>\n",
       "      <td>14</td>\n",
       "      <td>Em@gmail.com</td>\n",
       "      <td>70000.0</td>\n",
       "    </tr>\n",
       "    <tr>\n",
       "      <th>2</th>\n",
       "      <td>3</td>\n",
       "      <td>Phong</td>\n",
       "      <td>18</td>\n",
       "      <td>Phong@vanlanguni.vn</td>\n",
       "      <td>10000.0</td>\n",
       "    </tr>\n",
       "    <tr>\n",
       "      <th>3</th>\n",
       "      <td>4</td>\n",
       "      <td>Phú</td>\n",
       "      <td>27</td>\n",
       "      <td>Phu@yahoo.com</td>\n",
       "      <td>250000.0</td>\n",
       "    </tr>\n",
       "    <tr>\n",
       "      <th>4</th>\n",
       "      <td>5</td>\n",
       "      <td>None</td>\n",
       "      <td>50</td>\n",
       "      <td>None</td>\n",
       "      <td>15000.0</td>\n",
       "    </tr>\n",
       "  </tbody>\n",
       "</table>\n",
       "</div>"
      ],
      "text/plain": [
       "   id   name  age                email    salary\n",
       "0   1    Anh   15       Anh@vlu.edu.vn   86250.0\n",
       "1   2     Em   14         Em@gmail.com   70000.0\n",
       "2   3  Phong   18  Phong@vanlanguni.vn   10000.0\n",
       "3   4    Phú   27        Phu@yahoo.com  250000.0\n",
       "4   5   None   50                 None   15000.0"
      ]
     },
     "execution_count": 35,
     "metadata": {},
     "output_type": "execute_result"
    }
   ],
   "source": [
    "# Chuyển hóa hóa cột name bằng cách viết hoa chữ cái đầu \n",
    "df[\"name\"] = df[\"name\"].str.title()\n",
    "df"
   ]
  },
  {
   "cell_type": "code",
   "execution_count": 36,
   "metadata": {},
   "outputs": [
    {
     "data": {
      "text/html": [
       "<div>\n",
       "<style scoped>\n",
       "    .dataframe tbody tr th:only-of-type {\n",
       "        vertical-align: middle;\n",
       "    }\n",
       "\n",
       "    .dataframe tbody tr th {\n",
       "        vertical-align: top;\n",
       "    }\n",
       "\n",
       "    .dataframe thead th {\n",
       "        text-align: right;\n",
       "    }\n",
       "</style>\n",
       "<table border=\"1\" class=\"dataframe\">\n",
       "  <thead>\n",
       "    <tr style=\"text-align: right;\">\n",
       "      <th></th>\n",
       "      <th>id</th>\n",
       "      <th>name</th>\n",
       "      <th>age</th>\n",
       "      <th>email</th>\n",
       "      <th>salary</th>\n",
       "    </tr>\n",
       "  </thead>\n",
       "  <tbody>\n",
       "    <tr>\n",
       "      <th>0</th>\n",
       "      <td>1</td>\n",
       "      <td>Anh</td>\n",
       "      <td>15</td>\n",
       "      <td>anh@vlu.edu.vn</td>\n",
       "      <td>86250.0</td>\n",
       "    </tr>\n",
       "    <tr>\n",
       "      <th>1</th>\n",
       "      <td>2</td>\n",
       "      <td>Em</td>\n",
       "      <td>14</td>\n",
       "      <td>em@gmail.com</td>\n",
       "      <td>70000.0</td>\n",
       "    </tr>\n",
       "    <tr>\n",
       "      <th>2</th>\n",
       "      <td>3</td>\n",
       "      <td>Phong</td>\n",
       "      <td>18</td>\n",
       "      <td>phong@vanlanguni.vn</td>\n",
       "      <td>10000.0</td>\n",
       "    </tr>\n",
       "    <tr>\n",
       "      <th>3</th>\n",
       "      <td>4</td>\n",
       "      <td>Phú</td>\n",
       "      <td>27</td>\n",
       "      <td>phu@yahoo.com</td>\n",
       "      <td>250000.0</td>\n",
       "    </tr>\n",
       "    <tr>\n",
       "      <th>4</th>\n",
       "      <td>5</td>\n",
       "      <td>None</td>\n",
       "      <td>50</td>\n",
       "      <td>None</td>\n",
       "      <td>15000.0</td>\n",
       "    </tr>\n",
       "  </tbody>\n",
       "</table>\n",
       "</div>"
      ],
      "text/plain": [
       "   id   name  age                email    salary\n",
       "0   1    Anh   15       anh@vlu.edu.vn   86250.0\n",
       "1   2     Em   14         em@gmail.com   70000.0\n",
       "2   3  Phong   18  phong@vanlanguni.vn   10000.0\n",
       "3   4    Phú   27        phu@yahoo.com  250000.0\n",
       "4   5   None   50                 None   15000.0"
      ]
     },
     "execution_count": 36,
     "metadata": {},
     "output_type": "execute_result"
    }
   ],
   "source": [
    "# Chuyển hóa hóa cột email bằng cách chuyển về chữ thường  \n",
    "df[\"email\"] = df[\"email\"].str.lower()\n",
    "df"
   ]
  },
  {
   "cell_type": "code",
   "execution_count": 38,
   "metadata": {},
   "outputs": [
    {
     "data": {
      "text/html": [
       "<div>\n",
       "<style scoped>\n",
       "    .dataframe tbody tr th:only-of-type {\n",
       "        vertical-align: middle;\n",
       "    }\n",
       "\n",
       "    .dataframe tbody tr th {\n",
       "        vertical-align: top;\n",
       "    }\n",
       "\n",
       "    .dataframe thead th {\n",
       "        text-align: right;\n",
       "    }\n",
       "</style>\n",
       "<table border=\"1\" class=\"dataframe\">\n",
       "  <thead>\n",
       "    <tr style=\"text-align: right;\">\n",
       "      <th></th>\n",
       "      <th>id</th>\n",
       "      <th>name</th>\n",
       "      <th>age</th>\n",
       "      <th>email</th>\n",
       "      <th>salary</th>\n",
       "    </tr>\n",
       "  </thead>\n",
       "  <tbody>\n",
       "    <tr>\n",
       "      <th>0</th>\n",
       "      <td>1</td>\n",
       "      <td>Anh</td>\n",
       "      <td>15</td>\n",
       "      <td>anh@vlu.edu.vn</td>\n",
       "      <td>86250.0</td>\n",
       "    </tr>\n",
       "    <tr>\n",
       "      <th>1</th>\n",
       "      <td>2</td>\n",
       "      <td>Em</td>\n",
       "      <td>14</td>\n",
       "      <td>em@gmail.com</td>\n",
       "      <td>70000.0</td>\n",
       "    </tr>\n",
       "    <tr>\n",
       "      <th>2</th>\n",
       "      <td>3</td>\n",
       "      <td>Phong</td>\n",
       "      <td>18</td>\n",
       "      <td>phong@vanlanguni.vn</td>\n",
       "      <td>10000.0</td>\n",
       "    </tr>\n",
       "    <tr>\n",
       "      <th>3</th>\n",
       "      <td>4</td>\n",
       "      <td>Phú</td>\n",
       "      <td>27</td>\n",
       "      <td>phu@yahoo.com</td>\n",
       "      <td>250000.0</td>\n",
       "    </tr>\n",
       "    <tr>\n",
       "      <th>4</th>\n",
       "      <td>5</td>\n",
       "      <td>None</td>\n",
       "      <td>50</td>\n",
       "      <td>None</td>\n",
       "      <td>15000.0</td>\n",
       "    </tr>\n",
       "  </tbody>\n",
       "</table>\n",
       "</div>"
      ],
      "text/plain": [
       "   id   name  age                email    salary\n",
       "0   1    Anh   15       anh@vlu.edu.vn   86250.0\n",
       "1   2     Em   14         em@gmail.com   70000.0\n",
       "2   3  Phong   18  phong@vanlanguni.vn   10000.0\n",
       "3   4    Phú   27        phu@yahoo.com  250000.0\n",
       "4   5   None   50                 None   15000.0"
      ]
     },
     "execution_count": 38,
     "metadata": {},
     "output_type": "execute_result"
    }
   ],
   "source": [
    "# Lưu dữ liệu đã làm sạch\n",
    "df.to_csv(\"Dữ liệu đã làm sạch.csv\", index = False)\n",
    "df"
   ]
  },
  {
   "attachments": {},
   "cell_type": "markdown",
   "metadata": {},
   "source": [
    "# Bài tập về nhà "
   ]
  },
  {
   "attachments": {},
   "cell_type": "markdown",
   "metadata": {},
   "source": [
    "### Cho dữ liệu dirty_data.csv \n",
    "1. Kiểm tra dữ liệu bị thiếu :\n",
    "    - Kiểm tra các cột có dữ liệu thiếu\n",
    "    - Điền giá trị phù hợp hoặc bỏ các hàng có quá nhiều dữ liệu thiếu \n",
    "2. Phát hiện và sửa lỗi dữ liệu bất thường :\n",
    "    - Tìm các giá trị bất thường trong cột tuổi (age) có thể là âm hoạc quá lớn \n",
    "    - Kiểm tra cột thu nhập (income) để phát hiện lỗi bị sai\n",
    "3. Chuyển hóa dạng dữ liệu :\n",
    "    - Chuyển đổi cột ngày sinh về dạng chuẩn yyyy-mm-dd\n",
    "    - Chuyển hóa dữ liệu trong cột giới tính (gender) để chỉ có 2 giới tính phù hợp là \"Female\" và \"Male\"\n",
    "4. Xóa bỏ dữ liệu trùng lặp \n",
    "    - Xác định và xóa các bản ghi trùng lặp dựa trên thông tin khách hàng\n",
    "5. Xuất dữ liệu sạch:\n",
    "Lưu tập dữ liệu đã làm sạch thành tệp mới clean_data.csv\n"
   ]
  },
  {
   "cell_type": "code",
   "execution_count": 2,
   "metadata": {},
   "outputs": [
    {
     "name": "stdout",
     "output_type": "stream",
     "text": [
      "Dữ liệu sạch đã được lưu tại: clean_data.csv\n"
     ]
    },
    {
     "name": "stderr",
     "output_type": "stream",
     "text": [
      "C:\\Users\\HP\\AppData\\Local\\Temp\\ipykernel_21340\\3828088883.py:31: FutureWarning: A value is trying to be set on a copy of a DataFrame or Series through chained assignment using an inplace method.\n",
      "The behavior will change in pandas 3.0. This inplace method will never work because the intermediate object on which we are setting values always behaves as a copy.\n",
      "\n",
      "For example, when doing 'df[col].method(value, inplace=True)', try using 'df.method({col: value}, inplace=True)' or df[col] = df[col].method(value) instead, to perform the operation inplace on the original object.\n",
      "\n",
      "\n",
      "  df['income'].fillna(df['income'].median(), inplace=True)  # Điền giá trị trung vị\n"
     ]
    }
   ],
   "source": [
    "import pandas as pd\n",
    "\n",
    "# Tạo nội dung dữ liệu bẩn\n",
    "dirty_data_content = \"\"\"customer_id,name,age,gender,dob,income,email\n",
    "101,Nguyen Van A,25.0,Male,1998-05-22,1200,a@example.com\n",
    "102,Tran Thi B,42.0,Female,1981-07-14,4500,b@example.com\n",
    "103,Le Van C,-5.0,male,12/03/1995,3200,c@example.com\n",
    "104,Hoang Minh D,150.0,F,1980/08/25,-500,d@example.com\n",
    "105,Pham Thi E,30.0,Fem,1993-09-30,,e@example.com\n",
    "106,Nguyen Van F,,M,1996-11-02,2500,f@example.com\n",
    "107,Bui Thi G,29.0,Female,1994/06/15,3800,g@example.com\n",
    "108,Dang Van H,40.0,f,1990-01-29,4200,h@example.com\n",
    "109,Vo Thi I,27.0,Male,1995-04-10,3900,i@example.com\n",
    "110,Phan Van J,22.0,unknown,1999-12-20,unknown,j@example.com\n",
    "110,Phan Van J,22.0,Male,1999-12-20,3900,j@example.com\"\"\"\n",
    "\n",
    "# Lưu dữ liệu vào tệp CSV\n",
    "file_path = \"dirty_data.csv\"\n",
    "with open(file_path, \"w\", encoding=\"utf-8\") as f:\n",
    "    f.write(dirty_data_content)\n",
    "\n",
    "# Đọc dữ liệu từ tệp\n",
    "df = pd.read_csv(file_path)\n",
    "\n",
    "# 1. Kiểm tra dữ liệu bị thiếu\n",
    "missing_data = df.isnull().sum()\n",
    "\n",
    "# Xử lý dữ liệu thiếu\n",
    "df = df.dropna(subset=['age', 'income'])  # Bỏ dòng có quá nhiều dữ liệu thiếu\n",
    "df['income'] = df['income'].replace('unknown', None).astype(float)\n",
    "df['income'].fillna(df['income'].median(), inplace=True)  # Điền giá trị trung vị\n",
    "\n",
    "# 2. Phát hiện và sửa lỗi dữ liệu bất thường\n",
    "df.loc[df['age'] < 0, 'age'] = df['age'].median()  # Sửa tuổi âm thành trung vị\n",
    "df.loc[df['age'] > 100, 'age'] = df['age'].median()  # Giới hạn tuổi tối đa\n",
    "df.loc[df['income'] < 0, 'income'] = df['income'].median()  # Sửa thu nhập âm\n",
    "\n",
    "# 3. Chuyển hóa dạng dữ liệu\n",
    "df['dob'] = pd.to_datetime(df['dob'], errors='coerce').dt.strftime('%Y-%m-%d')  # Chuyển đổi ngày sinh\n",
    "\n",
    "# Chuyển đổi giới tính\n",
    "gender_map = {'Male': 'Male', 'Female': 'Female', 'M': 'Male', 'F': 'Female', 'Fem': 'Female', 'f': 'Female', 'm': 'Male'}\n",
    "df['gender'] = df['gender'].map(gender_map).fillna('Unknown')\n",
    "\n",
    "# 4. Xóa bỏ dữ liệu trùng lặp\n",
    "df = df.drop_duplicates(subset=['customer_id', 'email'])\n",
    "\n",
    "# 5. Xuất dữ liệu sạch\n",
    "clean_file_path = \"clean_data.csv\"\n",
    "df.to_csv(clean_file_path, index=False)\n",
    "\n",
    "print(f\"Dữ liệu sạch đã được lưu tại: {clean_file_path}\")\n",
    "\n"
   ]
  }
 ],
 "metadata": {
  "kernelspec": {
   "display_name": "Python 3",
   "language": "python",
   "name": "python3"
  },
  "language_info": {
   "codemirror_mode": {
    "name": "ipython",
    "version": 3
   },
   "file_extension": ".py",
   "mimetype": "text/x-python",
   "name": "python",
   "nbconvert_exporter": "python",
   "pygments_lexer": "ipython3",
   "version": "3.11.9"
  },
  "orig_nbformat": 4,
  "vscode": {
   "interpreter": {
    "hash": "11938c6bc6919ae2720b4d5011047913343b08a43b18698fd82dedb0d4417594"
   }
  }
 },
 "nbformat": 4,
 "nbformat_minor": 2
}
